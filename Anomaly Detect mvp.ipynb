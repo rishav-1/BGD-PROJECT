{
 "cells": [
  {
   "cell_type": "code",
   "execution_count": 32,
   "metadata": {},
   "outputs": [],
   "source": [
    "# importing python utility libraries\n",
    "import os, sys, random, io, urllib\n",
    "from datetime import datetime\n",
    "\n",
    "# importing pytorch libraries\n",
    "import torch\n",
    "from torch import nn\n",
    "from torch.utils.data import DataLoader\n",
    "import torch.optim as optim\n",
    "from torch import autograd\n",
    "\n",
    "# importing data science libraries\n",
    "import pandas as pd\n",
    "import random as rd\n",
    "import numpy as np\n",
    "\n",
    "# importing python plotting libraries\n",
    "import matplotlib.pyplot as plt\n",
    "import seaborn as sns\n",
    "%matplotlib inline\n",
    "sns.set_style('darkgrid')\n",
    "from IPython.display import Image, display"
   ]
  },
  {
   "cell_type": "code",
   "execution_count": 33,
   "metadata": {},
   "outputs": [],
   "source": [
    "USE_CUDA = True"
   ]
  },
  {
   "cell_type": "code",
   "execution_count": 34,
   "metadata": {},
   "outputs": [
    {
     "data": {
      "text/plain": [
       "<torch._C.Generator at 0x1b9e9f401b0>"
      ]
     },
     "execution_count": 34,
     "metadata": {},
     "output_type": "execute_result"
    }
   ],
   "source": [
    "rd.seed(1234)\n",
    "np.random.seed(1234)\n",
    "torch.manual_seed(1234)"
   ]
  },
  {
   "cell_type": "code",
   "execution_count": 35,
   "metadata": {},
   "outputs": [
    {
     "data": {
      "text/html": [
       "<div>\n",
       "<style scoped>\n",
       "    .dataframe tbody tr th:only-of-type {\n",
       "        vertical-align: middle;\n",
       "    }\n",
       "\n",
       "    .dataframe tbody tr th {\n",
       "        vertical-align: top;\n",
       "    }\n",
       "\n",
       "    .dataframe thead th {\n",
       "        text-align: right;\n",
       "    }\n",
       "</style>\n",
       "<table border=\"1\" class=\"dataframe\">\n",
       "  <thead>\n",
       "    <tr style=\"text-align: right;\">\n",
       "      <th></th>\n",
       "      <th>BELNR</th>\n",
       "      <th>WAERS</th>\n",
       "      <th>BUKRS</th>\n",
       "      <th>KTOSL</th>\n",
       "      <th>PRCTR</th>\n",
       "      <th>BSCHL</th>\n",
       "      <th>HKONT</th>\n",
       "      <th>DMBTR</th>\n",
       "      <th>WRBTR</th>\n",
       "      <th>label</th>\n",
       "    </tr>\n",
       "  </thead>\n",
       "  <tbody>\n",
       "    <tr>\n",
       "      <th>0</th>\n",
       "      <td>288203</td>\n",
       "      <td>C3</td>\n",
       "      <td>C31</td>\n",
       "      <td>C9</td>\n",
       "      <td>C92</td>\n",
       "      <td>A3</td>\n",
       "      <td>B1</td>\n",
       "      <td>280979.60</td>\n",
       "      <td>0.00</td>\n",
       "      <td>regular</td>\n",
       "    </tr>\n",
       "    <tr>\n",
       "      <th>1</th>\n",
       "      <td>324441</td>\n",
       "      <td>C1</td>\n",
       "      <td>C18</td>\n",
       "      <td>C7</td>\n",
       "      <td>C76</td>\n",
       "      <td>A1</td>\n",
       "      <td>B2</td>\n",
       "      <td>129856.53</td>\n",
       "      <td>243343.00</td>\n",
       "      <td>regular</td>\n",
       "    </tr>\n",
       "    <tr>\n",
       "      <th>2</th>\n",
       "      <td>133537</td>\n",
       "      <td>C1</td>\n",
       "      <td>C19</td>\n",
       "      <td>C2</td>\n",
       "      <td>C20</td>\n",
       "      <td>A1</td>\n",
       "      <td>B3</td>\n",
       "      <td>957463.97</td>\n",
       "      <td>3183838.41</td>\n",
       "      <td>regular</td>\n",
       "    </tr>\n",
       "    <tr>\n",
       "      <th>3</th>\n",
       "      <td>331521</td>\n",
       "      <td>C4</td>\n",
       "      <td>C48</td>\n",
       "      <td>C9</td>\n",
       "      <td>C95</td>\n",
       "      <td>A2</td>\n",
       "      <td>B1</td>\n",
       "      <td>2681709.51</td>\n",
       "      <td>28778.00</td>\n",
       "      <td>regular</td>\n",
       "    </tr>\n",
       "    <tr>\n",
       "      <th>4</th>\n",
       "      <td>375333</td>\n",
       "      <td>C5</td>\n",
       "      <td>C58</td>\n",
       "      <td>C1</td>\n",
       "      <td>C19</td>\n",
       "      <td>A3</td>\n",
       "      <td>B1</td>\n",
       "      <td>910514.49</td>\n",
       "      <td>346.00</td>\n",
       "      <td>regular</td>\n",
       "    </tr>\n",
       "  </tbody>\n",
       "</table>\n",
       "</div>"
      ],
      "text/plain": [
       "    BELNR WAERS BUKRS KTOSL PRCTR BSCHL HKONT       DMBTR       WRBTR    label\n",
       "0  288203    C3   C31    C9   C92    A3    B1   280979.60        0.00  regular\n",
       "1  324441    C1   C18    C7   C76    A1    B2   129856.53   243343.00  regular\n",
       "2  133537    C1   C19    C2   C20    A1    B3   957463.97  3183838.41  regular\n",
       "3  331521    C4   C48    C9   C95    A2    B1  2681709.51    28778.00  regular\n",
       "4  375333    C5   C58    C1   C19    A3    B1   910514.49      346.00  regular"
      ]
     },
     "execution_count": 35,
     "metadata": {},
     "output_type": "execute_result"
    }
   ],
   "source": [
    "ori_dataset = pd.read_csv('./fraud_dataset_v1.csv')\n",
    "ori_dataset.head()"
   ]
  },
  {
   "cell_type": "code",
   "execution_count": 36,
   "metadata": {},
   "outputs": [
    {
     "data": {
      "text/plain": [
       "regular    43476\n",
       "local          5\n",
       "global         4\n",
       "Name: label, dtype: int64"
      ]
     },
     "execution_count": 36,
     "metadata": {},
     "output_type": "execute_result"
    }
   ],
   "source": [
    "ori_dataset.label.value_counts()"
   ]
  },
  {
   "cell_type": "code",
   "execution_count": 37,
   "metadata": {},
   "outputs": [],
   "source": [
    "label = ori_dataset.pop('label')\n",
    "\n",
    "categorical_attr_names = ['KTOSL', 'PRCTR', 'BSCHL', 'HKONT', 'BUKRS', 'WAERS']\n",
    "ori_dataset_categ_transformed = pd.get_dummies(ori_dataset[categorical_attr_names])\n",
    "\n",
    "numeric_attr_names = ['DMBTR', 'WRBTR']\n",
    "numeric_attr = ori_dataset[numeric_attr_names] + 1e-4\n",
    "numeric_attr = numeric_attr.apply(np.log)\n",
    "ori_dataset_numeric_attr = (numeric_attr - numeric_attr.min()) / (numeric_attr.max() - numeric_attr.min())"
   ]
  },
  {
   "cell_type": "code",
   "execution_count": 38,
   "metadata": {},
   "outputs": [
    {
     "data": {
      "text/plain": [
       "(43485, 229)"
      ]
     },
     "execution_count": 38,
     "metadata": {},
     "output_type": "execute_result"
    }
   ],
   "source": [
    "ori_subset_transformed = pd.concat([ori_dataset_categ_transformed, ori_dataset_numeric_attr], axis = 1)\n",
    "ori_subset_transformed.shape"
   ]
  },
  {
   "cell_type": "code",
   "execution_count": 39,
   "metadata": {},
   "outputs": [],
   "source": [
    "class encoder(nn.Module):\n",
    "\n",
    "    def __init__(self):\n",
    "\n",
    "        super(encoder, self).__init__()\n",
    "\n",
    "        # specify layer 1 - in 618, out 512\n",
    "        self.encoder_L1 = nn.Linear(in_features=ori_subset_transformed.shape[1], out_features=512, bias=True) \n",
    "        nn.init.xavier_uniform_(self.encoder_L1.weight) \n",
    "        self.encoder_R1 = nn.LeakyReLU(negative_slope=0.4, inplace=True) \n",
    "\n",
    "        # specify layer 2 - in 512, out 256\n",
    "        self.encoder_L2 = nn.Linear(512, 256, bias=True)\n",
    "        nn.init.xavier_uniform_(self.encoder_L2.weight)\n",
    "        self.encoder_R2 = nn.LeakyReLU(negative_slope=0.4, inplace=True)\n",
    "\n",
    "        # specify layer 3 - in 256, out 128\n",
    "        self.encoder_L3 = nn.Linear(256, 128, bias=True)\n",
    "        nn.init.xavier_uniform_(self.encoder_L3.weight)\n",
    "        self.encoder_R3 = nn.LeakyReLU(negative_slope=0.4, inplace=True)\n",
    "\n",
    "        # specify layer 4 - in 128, out 64\n",
    "        self.encoder_L4 = nn.Linear(128, 64, bias=True)\n",
    "        nn.init.xavier_uniform_(self.encoder_L4.weight)\n",
    "        self.encoder_R4 = nn.LeakyReLU(negative_slope=0.4, inplace=True)\n",
    "\n",
    "        # specify layer 5 - in 64, out 32\n",
    "        self.encoder_L5 = nn.Linear(64, 32, bias=True)\n",
    "        nn.init.xavier_uniform_(self.encoder_L5.weight)\n",
    "        self.encoder_R5 = nn.LeakyReLU(negative_slope=0.4, inplace=True)\n",
    "\n",
    "        # specify layer 6 - in 32, out 16\n",
    "        self.encoder_L6 = nn.Linear(32, 16, bias=True)\n",
    "        nn.init.xavier_uniform_(self.encoder_L6.weight)\n",
    "        self.encoder_R6 = nn.LeakyReLU(negative_slope=0.4, inplace=True)\n",
    "\n",
    "        # specify layer 7 - in 16, out 8\n",
    "        self.encoder_L7 = nn.Linear(16, 8, bias=True)\n",
    "        nn.init.xavier_uniform_(self.encoder_L7.weight)\n",
    "        self.encoder_R7 = nn.LeakyReLU(negative_slope=0.4, inplace=True)\n",
    "\n",
    "        # specify layer 8 - in 8, out 4\n",
    "        self.encoder_L8 = nn.Linear(8, 4, bias=True)\n",
    "        nn.init.xavier_uniform_(self.encoder_L8.weight)\n",
    "        self.encoder_R8 = nn.LeakyReLU(negative_slope=0.4, inplace=True)\n",
    "\n",
    "        # specify layer 9 - in 4, out 3\n",
    "        self.encoder_L9 = nn.Linear(4, 3, bias=True)\n",
    "        nn.init.xavier_uniform_(self.encoder_L9.weight)\n",
    "        self.encoder_R9 = nn.LeakyReLU(negative_slope=0.4, inplace=True)\n",
    "\n",
    "        # init dropout layer with probability p\n",
    "        self.dropout = nn.Dropout(p=0.0, inplace=True)\n",
    "        \n",
    "    def forward(self, x):\n",
    "\n",
    "        # define forward pass through the network\n",
    "        x = self.encoder_R1(self.dropout(self.encoder_L1(x)))\n",
    "        x = self.encoder_R2(self.dropout(self.encoder_L2(x)))\n",
    "        x = self.encoder_R3(self.dropout(self.encoder_L3(x)))\n",
    "        x = self.encoder_R4(self.dropout(self.encoder_L4(x)))\n",
    "        x = self.encoder_R5(self.dropout(self.encoder_L5(x)))\n",
    "        x = self.encoder_R6(self.dropout(self.encoder_L6(x)))\n",
    "        x = self.encoder_R7(self.dropout(self.encoder_L7(x)))\n",
    "        x = self.encoder_R8(self.dropout(self.encoder_L8(x)))\n",
    "        x = self.encoder_R9(self.encoder_L9(x)) \n",
    "\n",
    "        return x\n",
    "\n",
    "encoder_train = encoder()"
   ]
  },
  {
   "cell_type": "code",
   "execution_count": 40,
   "metadata": {},
   "outputs": [
    {
     "name": "stdout",
     "output_type": "stream",
     "text": [
      "[LOG 20201130-21:49:53] encoder architecture:\n",
      "\n",
      "encoder(\n",
      "  (encoder_L1): Linear(in_features=229, out_features=512, bias=True)\n",
      "  (encoder_R1): LeakyReLU(negative_slope=0.4, inplace=True)\n",
      "  (encoder_L2): Linear(in_features=512, out_features=256, bias=True)\n",
      "  (encoder_R2): LeakyReLU(negative_slope=0.4, inplace=True)\n",
      "  (encoder_L3): Linear(in_features=256, out_features=128, bias=True)\n",
      "  (encoder_R3): LeakyReLU(negative_slope=0.4, inplace=True)\n",
      "  (encoder_L4): Linear(in_features=128, out_features=64, bias=True)\n",
      "  (encoder_R4): LeakyReLU(negative_slope=0.4, inplace=True)\n",
      "  (encoder_L5): Linear(in_features=64, out_features=32, bias=True)\n",
      "  (encoder_R5): LeakyReLU(negative_slope=0.4, inplace=True)\n",
      "  (encoder_L6): Linear(in_features=32, out_features=16, bias=True)\n",
      "  (encoder_R6): LeakyReLU(negative_slope=0.4, inplace=True)\n",
      "  (encoder_L7): Linear(in_features=16, out_features=8, bias=True)\n",
      "  (encoder_R7): LeakyReLU(negative_slope=0.4, inplace=True)\n",
      "  (encoder_L8): Linear(in_features=8, out_features=4, bias=True)\n",
      "  (encoder_R8): LeakyReLU(negative_slope=0.4, inplace=True)\n",
      "  (encoder_L9): Linear(in_features=4, out_features=3, bias=True)\n",
      "  (encoder_R9): LeakyReLU(negative_slope=0.4, inplace=True)\n",
      "  (dropout): Dropout(p=0.0, inplace=True)\n",
      ")\n",
      "\n"
     ]
    }
   ],
   "source": [
    "now = datetime.utcnow().strftime(\"%Y%m%d-%H:%M:%S\")\n",
    "print('[LOG {}] encoder architecture:\\n\\n{}\\n'.format(now, encoder_train))"
   ]
  },
  {
   "cell_type": "code",
   "execution_count": 41,
   "metadata": {},
   "outputs": [],
   "source": [
    "class decoder(nn.Module):\n",
    "\n",
    "    def __init__(self):\n",
    "\n",
    "        super(decoder, self).__init__()\n",
    "\n",
    "        # specify layer 1 - in 3, out 4\n",
    "        self.decoder_L1 = nn.Linear(in_features=3, out_features=4, bias=True)  \n",
    "        nn.init.xavier_uniform_(self.decoder_L1.weight)  \n",
    "        self.decoder_R1 = nn.LeakyReLU(negative_slope=0.4, inplace=True) \n",
    "\n",
    "        # specify layer 2 - in 4, out 8\n",
    "        self.decoder_L2 = nn.Linear(4, 8, bias=True)\n",
    "        nn.init.xavier_uniform_(self.decoder_L2.weight)\n",
    "        self.decoder_R2 = nn.LeakyReLU(negative_slope=0.4, inplace=True)\n",
    "\n",
    "        # specify layer 3 - in 8, out 16\n",
    "        self.decoder_L3 = nn.Linear(8, 16, bias=True)\n",
    "        nn.init.xavier_uniform_(self.decoder_L3.weight)\n",
    "        self.decoder_R3 = nn.LeakyReLU(negative_slope=0.4, inplace=True)\n",
    "\n",
    "        # specify layer 4 - in 16, out 32\n",
    "        self.decoder_L4 = nn.Linear(16, 32, bias=True)\n",
    "        nn.init.xavier_uniform_(self.decoder_L4.weight)\n",
    "        self.decoder_R4 = nn.LeakyReLU(negative_slope=0.4, inplace=True)\n",
    "\n",
    "        # specify layer 5 - in 32, out 64\n",
    "        self.decoder_L5 = nn.Linear(32, 64, bias=True)\n",
    "        nn.init.xavier_uniform_(self.decoder_L5.weight)\n",
    "        self.decoder_R5 = nn.LeakyReLU(negative_slope=0.4, inplace=True)\n",
    "\n",
    "        # specify layer 6 - in 64, out 128\n",
    "        self.decoder_L6 = nn.Linear(64, 128, bias=True)\n",
    "        nn.init.xavier_uniform_(self.decoder_L6.weight)\n",
    "        self.decoder_R6 = nn.LeakyReLU(negative_slope=0.4, inplace=True)\n",
    "        \n",
    "        # specify layer 7 - in 128, out 256\n",
    "        self.decoder_L7 = nn.Linear(128, 256, bias=True)\n",
    "        nn.init.xavier_uniform_(self.decoder_L7.weight)\n",
    "        self.decoder_R7 = nn.LeakyReLU(negative_slope=0.4, inplace=True)\n",
    "\n",
    "        # specify layer 8 - in 256, out 512\n",
    "        self.decoder_L8 = nn.Linear(256, 512, bias=True)\n",
    "        nn.init.xavier_uniform_(self.decoder_L8.weight)\n",
    "        self.decoder_R8 = nn.LeakyReLU(negative_slope=0.4, inplace=True)\n",
    "\n",
    "        # specify layer 9 - in 512, out 618\n",
    "        self.decoder_L9 = nn.Linear(in_features=512, out_features=ori_subset_transformed.shape[1], bias=True)\n",
    "        nn.init.xavier_uniform_(self.decoder_L9.weight)\n",
    "        self.decoder_R9 = nn.LeakyReLU(negative_slope=0.4, inplace=True)\n",
    "\n",
    "        # init dropout layer with probability p\n",
    "        self.dropout = nn.Dropout(p=0.0, inplace=True)\n",
    "\n",
    "    def forward(self, x):\n",
    "\n",
    "        # define forward pass through the network\n",
    "        x = self.decoder_R1(self.dropout(self.decoder_L1(x)))\n",
    "        x = self.decoder_R2(self.dropout(self.decoder_L2(x)))\n",
    "        x = self.decoder_R3(self.dropout(self.decoder_L3(x)))\n",
    "        x = self.decoder_R4(self.dropout(self.decoder_L4(x)))\n",
    "        x = self.decoder_R5(self.dropout(self.decoder_L5(x)))\n",
    "        x = self.decoder_R6(self.dropout(self.decoder_L6(x)))\n",
    "        x = self.decoder_R7(self.dropout(self.decoder_L7(x)))\n",
    "        x = self.decoder_R8(self.dropout(self.decoder_L8(x)))\n",
    "        x = self.decoder_R9(self.decoder_L9(x))\n",
    "        \n",
    "        return x\n",
    "\n",
    "decoder_train = decoder()"
   ]
  },
  {
   "cell_type": "code",
   "execution_count": 42,
   "metadata": {},
   "outputs": [
    {
     "name": "stdout",
     "output_type": "stream",
     "text": [
      "[LOG 20201130-21:49:58] decoder architecture:\n",
      "\n",
      "decoder(\n",
      "  (decoder_L1): Linear(in_features=3, out_features=4, bias=True)\n",
      "  (decoder_R1): LeakyReLU(negative_slope=0.4, inplace=True)\n",
      "  (decoder_L2): Linear(in_features=4, out_features=8, bias=True)\n",
      "  (decoder_R2): LeakyReLU(negative_slope=0.4, inplace=True)\n",
      "  (decoder_L3): Linear(in_features=8, out_features=16, bias=True)\n",
      "  (decoder_R3): LeakyReLU(negative_slope=0.4, inplace=True)\n",
      "  (decoder_L4): Linear(in_features=16, out_features=32, bias=True)\n",
      "  (decoder_R4): LeakyReLU(negative_slope=0.4, inplace=True)\n",
      "  (decoder_L5): Linear(in_features=32, out_features=64, bias=True)\n",
      "  (decoder_R5): LeakyReLU(negative_slope=0.4, inplace=True)\n",
      "  (decoder_L6): Linear(in_features=64, out_features=128, bias=True)\n",
      "  (decoder_R6): LeakyReLU(negative_slope=0.4, inplace=True)\n",
      "  (decoder_L7): Linear(in_features=128, out_features=256, bias=True)\n",
      "  (decoder_R7): LeakyReLU(negative_slope=0.4, inplace=True)\n",
      "  (decoder_L8): Linear(in_features=256, out_features=512, bias=True)\n",
      "  (decoder_R8): LeakyReLU(negative_slope=0.4, inplace=True)\n",
      "  (decoder_L9): Linear(in_features=512, out_features=229, bias=True)\n",
      "  (decoder_R9): LeakyReLU(negative_slope=0.4, inplace=True)\n",
      "  (dropout): Dropout(p=0.0, inplace=True)\n",
      ")\n",
      "\n"
     ]
    }
   ],
   "source": [
    "now = datetime.utcnow().strftime(\"%Y%m%d-%H:%M:%S\")\n",
    "print('[LOG {}] decoder architecture:\\n\\n{}\\n'.format(now, decoder_train))"
   ]
  },
  {
   "cell_type": "code",
   "execution_count": 43,
   "metadata": {},
   "outputs": [],
   "source": [
    "loss_function = nn.BCEWithLogitsLoss(reduction='mean')\n",
    "learning_rate = 1e-3\n",
    "encoder_optimizer = torch.optim.Adam(encoder_train.parameters(), learning_rate)\n",
    "decoder_optimizer = torch.optim.Adam(decoder_train.parameters(), learning_rate)"
   ]
  },
  {
   "cell_type": "code",
   "execution_count": 44,
   "metadata": {},
   "outputs": [],
   "source": [
    "num_epochs = 8\n",
    "mini_batch_size = 128\n"
   ]
  },
  {
   "cell_type": "code",
   "execution_count": 45,
   "metadata": {},
   "outputs": [],
   "source": [
    "torch_dataset = torch.from_numpy(ori_subset_transformed.values).float()\n",
    "dataloader = DataLoader(torch_dataset, batch_size=mini_batch_size, shuffle=True, num_workers=0)"
   ]
  },
  {
   "cell_type": "code",
   "execution_count": 46,
   "metadata": {},
   "outputs": [
    {
     "name": "stdout",
     "output_type": "stream",
     "text": [
      "[LOG 20201130-21:50:11] training status, epoch: [0001/0008], loss: 0.0660142079\n",
      "[LOG 20201130-21:50:15] training status, epoch: [0002/0008], loss: 0.0543896630\n",
      "[LOG 20201130-21:50:20] training status, epoch: [0003/0008], loss: 0.0481352843\n",
      "[LOG 20201130-21:50:24] training status, epoch: [0004/0008], loss: 0.0416020341\n",
      "[LOG 20201130-21:50:29] training status, epoch: [0005/0008], loss: 0.0349919721\n",
      "[LOG 20201130-21:50:34] training status, epoch: [0006/0008], loss: 0.0315060914\n",
      "[LOG 20201130-21:50:39] training status, epoch: [0007/0008], loss: 0.0286405161\n",
      "[LOG 20201130-21:50:44] training status, epoch: [0008/0008], loss: 0.0265078768\n"
     ]
    }
   ],
   "source": [
    "losses = []\n",
    "\n",
    "data = autograd.Variable(torch_dataset)\n",
    "\n",
    "for epoch in range(num_epochs):\n",
    "\n",
    "  mini_batch_count = 0\n",
    "\n",
    "  encoder_train.train()\n",
    "  decoder_train.train()\n",
    "\n",
    "  start_time = datetime.now()\n",
    "\n",
    "  for mini_batch_data in dataloader:\n",
    "\n",
    "      mini_batch_count += 1\n",
    "\n",
    "      mini_batch_torch = autograd.Variable(mini_batch_data)\n",
    "\n",
    "      #Forward pass\n",
    "      z_representation = encoder_train(mini_batch_torch)\n",
    "      mini_batch_reconstruction = decoder_train(z_representation)\n",
    "\n",
    "      #Determine reconstruction loss\n",
    "      reconstruction_loss = loss_function(mini_batch_reconstruction, mini_batch_torch)\n",
    "\n",
    "      #Backward pass\n",
    "      decoder_optimizer.zero_grad()\n",
    "      encoder_optimizer.zero_grad()\n",
    "\n",
    "      reconstruction_loss.backward()\n",
    "\n",
    "      #Update parameters for our model\n",
    "      decoder_optimizer.step()\n",
    "      encoder_optimizer.step()\n",
    "\n",
    "      #Monitor training progress by checking every 1000 mini batches\n",
    "      if mini_batch_count % 1000 == 0:\n",
    "        mode = 'GPU' if (torch.backends.cudnn.version() != None) and (USE_CUDA == True) else 'CPU'\n",
    "        \n",
    "        now = datetime.utcnow().strftime(\"%Y%m%d-%H:%M:%S\")\n",
    "        end_time = datetime.now() - start_time\n",
    "        print('[LOG {}] training status, epoch: [{:04}/{:04}], batch: {:04}, loss: {}, mode: {}, time required: {}'.format(now, (epoch+1), num_epochs, mini_batch_count, np.round(reconstruction_loss.item(), 4), mode, end_time))\n",
    "        \n",
    "        start_time = datetime.now()\n",
    "\n",
    "  #Evaluate our model's performance\n",
    "  encoder_train.cpu().eval()\n",
    "  decoder_train.cpu().eval()\n",
    "\n",
    "  reconstruction = decoder_train(encoder_train(data))\n",
    "\n",
    "  reconstruction_loss_all = loss_function(reconstruction, data)\n",
    "\n",
    "  losses.extend([reconstruction_loss_all.item()])\n",
    "\n",
    "  now = datetime.utcnow().strftime(\"%Y%m%d-%H:%M:%S\")\n",
    "  print('[LOG {}] training status, epoch: [{:04}/{:04}], loss: {:.10f}'.format(now, (epoch+1), num_epochs, reconstruction_loss_all.item()))\n",
    "\n",
    "  #Save model snapshot to disk\n",
    "  encoder_model_name = \"ep_{}_encoder_model.pth\".format((epoch+1))\n",
    "  torch.save(encoder_train.state_dict(), encoder_model_name)\n",
    "  \n",
    "\n",
    "  decoder_model_name = \"ep_{}_decoder_model.pth\".format((epoch+1))\n",
    "  torch.save(decoder_train.state_dict(), decoder_model_name)"
   ]
  },
  {
   "cell_type": "code",
   "execution_count": 47,
   "metadata": {},
   "outputs": [
    {
     "data": {
      "text/plain": [
       "Text(0.5, 1.0, 'Autoencoder Training Performace')"
      ]
     },
     "execution_count": 47,
     "metadata": {},
     "output_type": "execute_result"
    },
    {
     "data": {
      "image/png": "[encoded data removed]",
      "text/plain": [
       "<Figure size 432x288 with 1 Axes>"
      ]
     },
     "metadata": {},
     "output_type": "display_data"
    }
   ],
   "source": [
    "plt.plot(range(0,len(losses)), losses)\n",
    "plt.xlabel('Training epoch')\n",
    "plt.xlim([0,len(losses)])\n",
    "plt.ylabel('Reconstruction error')\n",
    "plt.title('Autoencoder Training Performace')\n"
   ]
  },
  {
   "cell_type": "code",
   "execution_count": 48,
   "metadata": {},
   "outputs": [
    {
     "data": {
      "text/plain": [
       "<All keys matched successfully>"
      ]
     },
     "execution_count": 48,
     "metadata": {},
     "output_type": "execute_result"
    }
   ],
   "source": [
    "encoder_model_name = \"ep_8_encoder_model.pth\"\n",
    "decoder_model_name = \"ep_8_decoder_model.pth\"\n",
    "\n",
    "encoder_eval = encoder()\n",
    "decoder_eval = decoder()\n",
    "\n",
    "encoder_eval.load_state_dict(torch.load(encoder_model_name))\n",
    "decoder_eval.load_state_dict(torch.load(decoder_model_name))"
   ]
  },
  {
   "cell_type": "code",
   "execution_count": 49,
   "metadata": {},
   "outputs": [],
   "source": [
    "data = autograd.Variable(torch_dataset)\n",
    "\n",
    "encoder_eval.eval()\n",
    "decoder_eval.eval()\n",
    "\n",
    "reconstruction = decoder_eval(encoder_eval(data))"
   ]
  },
  {
   "cell_type": "code",
   "execution_count": 50,
   "metadata": {},
   "outputs": [
    {
     "name": "stdout",
     "output_type": "stream",
     "text": [
      "[LOG 20201130-21:51:24] collected reconstruction loss of: 043485/043485 transactions\n",
      "[LOG 20201130-21:51:24] reconstruction loss: 0.0265078768\n"
     ]
    }
   ],
   "source": [
    "reconstruction_loss_all = loss_function(reconstruction, data)\n",
    "\n",
    "now = datetime.utcnow().strftime(\"%Y%m%d-%H:%M:%S\")\n",
    "print('[LOG {}] collected reconstruction loss of: {:06}/{:06} transactions'.format(now, reconstruction.size()[0], reconstruction.size()[0]))\n",
    "print('[LOG {}] reconstruction loss: {:.10f}'.format(now, reconstruction_loss_all.item()))"
   ]
  },
  {
   "cell_type": "code",
   "execution_count": 51,
   "metadata": {},
   "outputs": [
    {
     "name": "stdout",
     "output_type": "stream",
     "text": [
      "[LOG 20201130-21:51:33] collected individual reconstruction loss of: 000000/043485 transactions\n"
     ]
    }
   ],
   "source": [
    "reconstruction_loss_transaction = np.zeros(reconstruction.size()[0])\n",
    "\n",
    "for i in range(0, reconstruction.size()[0]):\n",
    "\n",
    "  reconstruction_loss_transaction[i] = loss_function(reconstruction[i],data[i]).item()\n",
    "\n",
    "  if(i % 100000 == 0):\n",
    "    now = datetime.utcnow().strftime(\"%Y%m%d-%H:%M:%S\")\n",
    "    print('[LOG {}] collected individual reconstruction loss of: {:06}/{:06} transactions'.format(now, i, reconstruction.size()[0]))"
   ]
  },
  {
   "cell_type": "code",
   "execution_count": 52,
   "metadata": {},
   "outputs": [
    {
     "data": {
      "text/plain": [
       "<matplotlib.legend.Legend at 0x1b98000d880>"
      ]
     },
     "execution_count": 52,
     "metadata": {},
     "output_type": "execute_result"
    },
    {
     "data": {
      "image/png": "[encoded data removed]",
      "text/plain": [
       "<Figure size 432x288 with 1 Axes>"
      ]
     },
     "metadata": {},
     "output_type": "display_data"
    }
   ],
   "source": [
    "fig = plt.figure()\n",
    "ax = fig.add_subplot(111)\n",
    "\n",
    "plot_data = np.column_stack((np.arange(len(reconstruction_loss_transaction)), reconstruction_loss_transaction))\n",
    "\n",
    "regular_data = plot_data[label == 'regular']\n",
    "local_outliers = plot_data[label == 'local']\n",
    "global_outliers = plot_data[label == 'global']\n",
    "\n",
    "ax.scatter(regular_data[:,0], regular_data[:,1], c='C0', alpha=0.4, marker='o', label='regular')\n",
    "ax.scatter(local_outliers[:,0], local_outliers[:,1], c='C2', marker='^', label='local')\n",
    "ax.scatter(global_outliers[:,0], global_outliers[:,1], c='C1', marker='^', label='global')\n",
    "\n",
    "ax.legend(loc='best')"
   ]
  },
  {
   "cell_type": "code",
   "execution_count": 53,
   "metadata": {},
   "outputs": [
    {
     "data": {
      "text/plain": [
       "local     4\n",
       "global    4\n",
       "Name: label, dtype: int64"
      ]
     },
     "execution_count": 53,
     "metadata": {},
     "output_type": "execute_result"
    }
   ],
   "source": [
    "ori_dataset['label'] = label\n",
    "ori_dataset[reconstruction_loss_transaction >= 0.1].label.value_counts()"
   ]
  },
  {
   "cell_type": "code",
   "execution_count": 56,
   "metadata": {},
   "outputs": [
    {
     "data": {
      "text/plain": [
       "regular    33109\n",
       "Name: label, dtype: int64"
      ]
     },
     "execution_count": 56,
     "metadata": {},
     "output_type": "execute_result"
    }
   ],
   "source": [
    "ori_dataset[(reconstruction_loss_transaction >= 0.018) & (reconstruction_loss_transaction < 0.05)].label.value_counts()"
   ]
  },
  {
   "cell_type": "code",
   "execution_count": null,
   "metadata": {},
   "outputs": [],
   "source": []
  }
 ],
 "metadata": {
  "kernelspec": {
   "display_name": "Python 3",
   "language": "python",
   "name": "python3"
  },
  "language_info": {
   "codemirror_mode": {
    "name": "ipython",
    "version": 3
   },
   "file_extension": ".py",
   "mimetype": "text/x-python",
   "name": "python",
   "nbconvert_exporter": "python",
   "pygments_lexer": "ipython3",
   "version": "3.8.5"
  }
 },
 "nbformat": 4,
 "nbformat_minor": 4
}
